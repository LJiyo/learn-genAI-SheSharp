{
 "cells": [
  {
   "cell_type": "markdown",
   "metadata": {},
   "source": [
    "# Lets build an AI app!\n",
    "\n",
    "The following steps will cover:\n",
    "- Test the dev environment\n",
    "- How to use GPT to create a chatbot in Python.\n",
    "- Create a basic web app using your Python chatbot."
   ]
  },
  {
   "cell_type": "markdown",
   "metadata": {},
   "source": [
    "## Part 0: Get Set up!\n",
    "\n",
    "### You'll Need AI!\n",
    "To use GPT in this workshop we've set up a proxy that means you get easy access to Azure OpenAI services.\n",
    "\n",
    "To get access to the proxy service go to [this link](https://aka.ms/ai-proxy-she-sharp-fp) and sign in with your GitHub account.\n",
    "\n",
    "You will need the **key** and **endpoint** that you get from the proxy site.\n",
    "\n",
    "\n",
    "### Check out the environemnt we made for you!\n",
    "- We've installed some exenstions for Python and Jupyter in this Codespace by default. *We did this in the .devcontainer/devconatiner.json file.*\n",
    "- The libraries listed in the requirements.txt file have installed automatically. We've include the libaries for Azure AI, Azure Search, and to make our weba app with Flask. \n",
    "\n",
    "When you build your own project you can add more to the requirements.txt file and then install it all by running the following command in the terminal:\n",
    "`pip install -r requirements.txt`\n",
    "\n",
    "### ✅ Time to Test!!\n",
    "\n",
    "1. Let's test this all by running the code in the cell below 👇 by clicking the Play button. \n",
    "2. You'll need to select the **Python environment** kernal from the drop down that appears at the top. \n",
    "3. Then select the Python environment with the star⭐️ next\n",
    "\n",
    "**The first run might take a moment**"
   ]
  },
  {
   "cell_type": "code",
   "execution_count": 1,
   "metadata": {},
   "outputs": [
    {
     "name": "stdout",
     "output_type": "stream",
     "text": [
      "Hello, World!\n"
     ]
    }
   ],
   "source": [
    "print(\"Hello, World!\")\n",
    "\n",
    "from openai import AzureOpenAI"
   ]
  },
  {
   "cell_type": "markdown",
   "metadata": {},
   "source": [
    "## Part 1 - Make an AI chatbot in Python\n",
    "\n",
    "In this part you will need your AI key and endpoint. You'll use it to create the code to ask a question to Azure OpenAI service. \n",
    "\n",
    "### 🧠 **Add AI**\n",
    "1. In the code snippet **below** import the OpenAIClient library at the top of the next code snippet like this: `from openai import AzureOpenAI`. \n",
    "\n",
    "2. In the code cell below fill in the key and endpoint in the variables `AOAI_ENDPOINT` and `AOAI_KEY` *(AOAI is short for Azure OpenAI)*\n",
    "\n",
    "3. In the section where the client is set up, set the following parameters **(make sure to put them in quotes: eg: \"ASDFG-lmnop-1234\")**:\n",
    "    - Set api_key to the AOAI_KEY constant you created\n",
    "    - Set azure_endpoint to the AOAI_ENDPOINT constant you created\n",
    "\n",
    "4. Run you code and see the output below the code cell. \n",
    "\n",
    "### 🗣️ **Change the tone of the AI and the question**\n",
    "5. You can make the tone of the chat different but setting the SYSTEM_MESSAGE. Try make it talk like Elmo, a surf bro, or anything you like.\n",
    "\n",
    "6. Update the question variable to ask a different question.\n",
    "\n",
    "### 🔄 ***Bonus**: Ask more questions!* \n",
    "7. Create a `while True:` loop after the SYSTEM_MESSAGE variable is set. \n",
    "\n",
    "8. Use the `input` function to ask the user to input a question. Assign it to the question variable (instead of hard coding the question like it currently is).\n",
    "\n",
    "9. Make sure all the question and AI related content is *inside* the loop.\n",
    "\n",
    "\n",
    "### 📚 ***Bonus**: Add more context with a message history* \n",
    "If you want to improve the quality of the results you can include the history of questions that have been asked. \n",
    "Work out how to build up the message list to include all the questions asked by the user."
   ]
  },
  {
   "cell_type": "code",
   "execution_count": null,
   "metadata": {},
   "outputs": [],
   "source": [
    "# Imports go here\n",
    "\n",
    "\n",
    "\n",
    "# Put the keys and endpoints here (never put your real keys in the code)\n",
    "AOAI_ENDPOINT =                       # FILL IN THIS LINE\n",
    "AOAI_KEY =                            # FILL IN THIS LINE\n",
    "MODEL_NAME = \"shesharp-fp-hack-gpt35-turbo-16k\"\n",
    "\n",
    "# Set up the client for AI Chat using the contstants and API Version\n",
    "client = AzureOpenAI(\n",
    "    api_key=  ,                       # FILL IN THIS LINE\n",
    "    azure_endpoint=  ,                # FILL IN THIS LINE\n",
    "    api_version=\"2024-05-01-preview\",\n",
    ")\n",
    "\n",
    "# Set the tone of the conversation\n",
    "SYSTEM_MESSAGE = \"You are a helpful AI assistant that can answer questions and provide information. You can also provide sources for your information.\"\n",
    "\n",
    "\n",
    "# What question do you want to ask?\n",
    "question = \"What is the capital of France?\"\n",
    "\n",
    "# Create the message history\n",
    "messages=[\n",
    "    {\"role\": \"system\", \"content\": SYSTEM_MESSAGE},\n",
    "    {\"role\": \"user\", \"content\": question},\n",
    "]\n",
    "\n",
    "# Get the answer using the GPT model (create 1 answer (n) and use a temperature of 0.7 to set it to be pretty creative/random)\n",
    "response = client.chat.completions.create(model=MODEL_NAME,temperature=0.7,n=1,messages=messages)\n",
    "answer = response.choices[0].message.content\n",
    "print(answer)"
   ]
  },
  {
   "cell_type": "markdown",
   "metadata": {},
   "source": [
    "## Part 2: Turn your Python script into a basic web app!\n",
    "\n",
    "## 🕸️ Create your web app\n",
    "3. Go to the app.py file\n",
    "\n",
    "4. Copy in the the code from the above cell into the parts marked for imports, constants, and inside of the get_response function. \n",
    "\n",
    "5. Copy the following 2 routes in under the index route. \n",
    "\n",
    "    ```\n",
    "    # This is the route that shows the form the user asks a question on\n",
    "    @app.get('/test-ai')\n",
    "    def test_ai():\n",
    "        # Very basic form that sends a question to the /contextless-message endpoint\n",
    "        return \"\"\"\n",
    "        <h1>Ask a question!</h1>\n",
    "        <form method=\"post\" action=\"/test-ai\">\n",
    "            <textarea name=\"question\" placeholder=\"Ask a question\"></textarea>\n",
    "            <button type=\"submit\">Ask</button>\n",
    "        </form>\n",
    "        \"\"\"\n",
    "\n",
    "    # This is the route that the form sends the question to and sends back the response\n",
    "    @app.route(\"/test-ai\", methods=[\"POST\"])\n",
    "    def ask_response():\n",
    "        # Get the question from the form\n",
    "        question = request.form.get(\"question\")\n",
    "\n",
    "        # Return the response from the AI\n",
    "        return get_response(question)\n",
    "    ```\n",
    "\n",
    "## 👀 Checkout your web app\n",
    "6. Run your code, this will start the web server.\n",
    "\n",
    "7. Click on the link/button to view the web page and navigate to the test-ai page from the hoem page. \n",
    "\n",
    "8. See if your AI is working!"
   ]
  }
 ],
 "metadata": {
  "kernelspec": {
   "display_name": "Python 3",
   "language": "python",
   "name": "python3"
  },
  "language_info": {
   "codemirror_mode": {
    "name": "ipython",
    "version": 3
   },
   "file_extension": ".py",
   "mimetype": "text/x-python",
   "name": "python",
   "nbconvert_exporter": "python",
   "pygments_lexer": "ipython3",
   "version": "3.10.14"
  }
 },
 "nbformat": 4,
 "nbformat_minor": 2
}
